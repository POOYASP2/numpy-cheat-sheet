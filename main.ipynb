{
 "cells": [
  {
   "cell_type": "code",
   "execution_count": 2,
   "id": "e136a2c9",
   "metadata": {},
   "outputs": [],
   "source": [
    "import numpy as np"
   ]
  },
  {
   "cell_type": "markdown",
   "id": "9adb5d51",
   "metadata": {},
   "source": [
    "## some basic things"
   ]
  },
  {
   "cell_type": "code",
   "execution_count": 19,
   "id": "befbeccb",
   "metadata": {},
   "outputs": [
    {
     "name": "stdout",
     "output_type": "stream",
     "text": [
      "here is your array: [ 0  1  2  3  4  5  6  7  8  9 10 11]\n",
      "reshaped array: [[ 0  1  2]\n",
      " [ 3  4  5]\n",
      " [ 6  7  8]\n",
      " [ 9 10 11]]\n",
      "array shape: (4, 3)\n",
      "array dimensions: 2\n",
      "array data size: 12\n"
     ]
    }
   ],
   "source": [
    "array = np.array(5)\n",
    "array = np.arange(12)\n",
    "print(\"here is your array:\",array)\n",
    "print(\"reshaped array:\",array.reshape(4,3))\n",
    "array = np.arange(12).reshape(4,3)\n",
    "print(\"array shape:\",array.shape)\n",
    "print(\"array dimensions:\",array.ndim)\n",
    "print(\"array data size:\",array.size)"
   ]
  },
  {
   "cell_type": "code",
   "execution_count": null,
   "id": "9726ff0d",
   "metadata": {},
   "outputs": [
    {
     "data": {
      "text/plain": [
       "array([[1., 1., 1., 1.],\n",
       "       [1., 1., 1., 1.],\n",
       "       [1., 1., 1., 1.]])"
      ]
     },
     "execution_count": 21,
     "metadata": {},
     "output_type": "execute_result"
    }
   ],
   "source": [
    "ones = np.ones((3,4))\n",
    "ones"
   ]
  },
  {
   "cell_type": "code",
   "execution_count": 32,
   "id": "5161722f",
   "metadata": {},
   "outputs": [
    {
     "data": {
      "text/plain": [
       "array([ 5, 12, 21, 32])"
      ]
     },
     "execution_count": 32,
     "metadata": {},
     "output_type": "execute_result"
    }
   ],
   "source": [
    "array1 = np.array([1,2,3,4])\n",
    "array2 = np.arange(5,9)\n",
    "new_array = array1 * array2\n",
    "new_array"
   ]
  },
  {
   "cell_type": "code",
   "execution_count": 34,
   "id": "d0c01a9d",
   "metadata": {},
   "outputs": [
    {
     "data": {
      "text/plain": [
       "array([False,  True,  True,  True])"
      ]
     },
     "execution_count": 34,
     "metadata": {},
     "output_type": "execute_result"
    }
   ],
   "source": [
    "new_array > 10"
   ]
  },
  {
   "cell_type": "markdown",
   "id": "d59841b4",
   "metadata": {},
   "source": [
    "### For creating random value we can use `randn`"
   ]
  },
  {
   "cell_type": "code",
   "execution_count": 3,
   "id": "28419d68",
   "metadata": {},
   "outputs": [
    {
     "data": {
      "text/plain": [
       "array([[-0.6276004 ,  0.60795536, -1.04896033,  0.56021964],\n",
       "       [ 1.25694752, -0.11037863, -0.25844127,  0.46595882],\n",
       "       [-0.3370426 ,  0.04148065, -0.49912248,  0.74264415],\n",
       "       [-1.29263757, -0.99284669,  0.98825057, -0.16154207],\n",
       "       [-0.99994603, -1.34151058, -1.01780383, -0.49441478],\n",
       "       [-1.86861937, -0.42474128, -1.01424295,  0.05200427]])"
      ]
     },
     "execution_count": 3,
     "metadata": {},
     "output_type": "execute_result"
    }
   ],
   "source": [
    "np.random.randn(6,4)"
   ]
  },
  {
   "cell_type": "markdown",
   "id": "540eba85",
   "metadata": {},
   "source": [
    "Which the argvs are the shape of the outpu"
   ]
  }
 ],
 "metadata": {
  "kernelspec": {
   "display_name": "testenv",
   "language": "python",
   "name": "python3"
  },
  "language_info": {
   "codemirror_mode": {
    "name": "ipython",
    "version": 3
   },
   "file_extension": ".py",
   "mimetype": "text/x-python",
   "name": "python",
   "nbconvert_exporter": "python",
   "pygments_lexer": "ipython3",
   "version": "3.9.24"
  }
 },
 "nbformat": 4,
 "nbformat_minor": 5
}
